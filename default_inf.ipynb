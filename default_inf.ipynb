{
 "cells": [
  {
   "cell_type": "code",
   "execution_count": 3,
   "id": "818ec587",
   "metadata": {},
   "outputs": [],
   "source": [
    "from model import GPTJForCausalLM, GPTJConfig\n",
    "# from model import *\n",
    "# from transformers import AutoModelForCausalLM\n",
    "import mindspore\n",
    "import mindspore.numpy as np\n",
    "from mindspore import context\n",
    "import datetime"
   ]
  },
  {
   "cell_type": "code",
   "execution_count": 4,
   "id": "732ae37a",
   "metadata": {},
   "outputs": [],
   "source": [
    "model_ms = GPTJForCausalLM(GPTJConfig())"
   ]
  },
  {
   "cell_type": "code",
   "execution_count": 5,
   "id": "e8687391",
   "metadata": {
    "scrolled": true
   },
   "outputs": [],
   "source": [
    "# context.set_context(save_graphs=True, save_graphs_path=\"./graph/{}\".format(datetime.datetime.now()))"
   ]
  },
  {
   "cell_type": "code",
   "execution_count": null,
   "id": "7b6887a6",
   "metadata": {},
   "outputs": [],
   "source": [
    "tensor = np.arange(2011).astype(mindspore.int32).repeat(3).view((3, 2011))"
   ]
  },
  {
   "cell_type": "code",
   "execution_count": null,
   "id": "cd817046",
   "metadata": {},
   "outputs": [],
   "source": [
    "model_ms(tensor)"
   ]
  },
  {
   "cell_type": "code",
   "execution_count": null,
   "id": "dd768f0a",
   "metadata": {},
   "outputs": [],
   "source": [
    "model_ms.parameter_dict"
   ]
  },
  {
   "cell_type": "code",
   "execution_count": null,
   "id": "c227e5f1",
   "metadata": {},
   "outputs": [],
   "source": [
    "model_pt = AutoModelForCausalLM.from_pretrained(\"EleutherAI/gpt-j-6B\")"
   ]
  },
  {
   "cell_type": "code",
   "execution_count": null,
   "id": "10eb51bc",
   "metadata": {},
   "outputs": [],
   "source": [
    "model_pt.state_dict"
   ]
  },
  {
   "cell_type": "code",
   "execution_count": 5,
   "id": "2e0a252e",
   "metadata": {},
   "outputs": [
    {
     "name": "stdout",
     "output_type": "stream",
     "text": [
      "(3, 1, 2)\n"
     ]
    }
   ],
   "source": [
    "import mindspore.numpy as np\n",
    "# t = np.arange(2, 4)\n",
    "from mindspore import Tensor\n",
    "x = np.ones((1,2,3), dtype=np.float32)\n",
    "# s = x.shape\n",
    "# s = (*s[:-2], s[-1], s[-2])\n",
    "x = x.transpose(2, 0, 1)\n",
    "print(x.shape)"
   ]
  },
  {
   "cell_type": "code",
   "execution_count": null,
   "id": "4f345466",
   "metadata": {},
   "outputs": [],
   "source": [
    "from mindspore import ops, nn\n",
    "expand_dims = ops.ExpandDims()\n",
    "sin = ops.Sin()\n",
    "cos = ops.Cos()\n",
    "pow = ops.Pow()\n",
    "div = ops.Div()\n",
    "dim = 100\n",
    "inv_freq = 1.0 / pow(10000, div(np.arange(0, dim, 2).astype(mindspore.float32), dim))\n",
    "print(inv_freq)\n",
    "sinusoid_inp = ops.matmul(expand_dims(np.arange(3), 1).astype(mindspore.float32), expand_dims(inv_freq, 0).astype(mindspore.float32))\n",
    "\n",
    "print(sinusoid_inp)"
   ]
  },
  {
   "cell_type": "code",
   "execution_count": null,
   "id": "77b943aa",
   "metadata": {},
   "outputs": [],
   "source": []
  }
 ],
 "metadata": {
  "kernelspec": {
   "display_name": "MindSpore",
   "language": "python",
   "name": "mindspore"
  },
  "language_info": {
   "codemirror_mode": {
    "name": "ipython",
    "version": 3
   },
   "file_extension": ".py",
   "mimetype": "text/x-python",
   "name": "python",
   "nbconvert_exporter": "python",
   "pygments_lexer": "ipython3",
   "version": "3.7.6"
  }
 },
 "nbformat": 4,
 "nbformat_minor": 5
}
