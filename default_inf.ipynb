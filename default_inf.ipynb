{
 "cells": [
  {
   "cell_type": "code",
   "execution_count": 1,
   "id": "23d5420a",
   "metadata": {},
   "outputs": [],
   "source": [
    "# from model import GPTJForCausalLM, GPTJConfig\n",
    "from model import *\n",
    "# from transformers import AutoModelForCausalLM\n",
    "import mindspore\n",
    "import mindspore.numpy as np\n",
    "from mindspore import context\n",
    "import datetime"
   ]
  },
  {
   "cell_type": "code",
   "execution_count": 2,
   "id": "c805c27d",
   "metadata": {},
   "outputs": [
    {
     "name": "stdout",
     "output_type": "stream",
     "text": [
      "Begin constructing GPTJModel...\n",
      "Embedding...\n",
      "Begin CellList...\n",
      "Begin constructing GPTJAttention...\n",
      "CellList complete\n",
      "Begin attention bias...\n",
      "Attention bias complete!\n",
      "GPTJModel constructed.\n"
     ]
    }
   ],
   "source": [
    "model_ms = GPTJForCausalLM(GPTJConfig(n_layer=1))"
   ]
  },
  {
   "cell_type": "code",
   "execution_count": 3,
   "id": "c3ceb912",
   "metadata": {
    "scrolled": true
   },
   "outputs": [],
   "source": [
    "# context.set_context(save_graphs=True, save_graphs_path=\"./graph/{}\".format(datetime.datetime.now()))"
   ]
  },
  {
   "cell_type": "code",
   "execution_count": 4,
   "id": "8076ca10",
   "metadata": {},
   "outputs": [
    {
     "data": {
      "text/plain": [
       "Tensor(shape=[3, 2011, 50400], dtype=Float32, value=\n",
       "[[[ 2.54975557e-01, -8.87873709e-01,  1.36972189e+00 ... -3.19052398e-01,  1.40852481e-01,  1.67090982e-01],\n",
       "  [ 2.54849762e-01, -8.88612688e-01,  1.36942768e+00 ... -3.17058384e-01,  1.40546799e-01,  1.66431427e-01],\n",
       "  [ 2.55252421e-01, -8.89709592e-01,  1.36970329e+00 ... -3.15049887e-01,  1.39712110e-01,  1.65950343e-01],\n",
       "  ...\n",
       "  [ 1.33354053e-01, -6.01012781e-02,  3.94055247e-01 ...  8.26458812e-01, -4.47404325e-01,  3.55318785e-01],\n",
       "  [ 1.33559868e-01, -6.17173985e-02,  3.94456327e-01 ...  8.27543437e-01, -4.47678059e-01,  3.55295599e-01],\n",
       "  [-6.65772200e-01,  3.08112830e-01, -4.67897892e-01 ...  5.23569345e-01, -1.03132081e+00,  1.17032409e+00]],\n",
       " [[-6.23952746e-01,  3.01140517e-01, -4.05982703e-01 ...  5.36732435e-01, -1.02466786e+00,  1.15188670e+00],\n",
       "  [-6.23688579e-01,  3.00824463e-01, -4.06753451e-01 ...  5.36542892e-01, -1.02465737e+00,  1.15320039e+00],\n",
       "  [-3.55228931e-01, -7.36107945e-01, -5.86620092e-01 ...  2.80766606e-01,  5.05465925e-01,  9.13744867e-02],\n",
       "  ...\n",
       "  [ 5.10405779e-01,  1.40174344e-01,  7.46552467e-01 ...  9.53531563e-01, -1.65711194e-01, -7.86949843e-02],\n",
       "  [-1.37110651e-01, -2.36015260e-01, -1.99973583e-03 ... -5.46575040e-02,  6.03964806e-01,  3.84664267e-01],\n",
       "  [-1.36558026e-01, -2.35645056e-01, -1.60175562e-03 ... -5.45706004e-02,  6.01786196e-01,  3.84542882e-01]],\n",
       " [[-1.16849542e-01, -2.22379625e-01, -2.20747292e-02 ... -4.30043191e-02,  5.88177323e-01,  3.59685957e-01],\n",
       "  [-4.27206159e-02, -6.33801818e-01,  1.10695076e+00 ... -8.53348851e-01, -3.20008636e-01, -2.08390862e-01],\n",
       "  [-4.38972712e-02, -6.34103656e-01,  1.10624433e+00 ... -8.52198064e-01, -3.20358455e-01, -2.08600938e-01],\n",
       "  ...\n",
       "  [-1.72462642e-01, -1.56180516e-01,  1.78700000e-01 ... -1.86320797e-01, -1.08119559e+00,  6.02619112e-01],\n",
       "  [-1.73286766e-01, -1.55704558e-01,  1.78864986e-01 ... -1.86453387e-01, -1.08146095e+00,  6.02547526e-01],\n",
       "  [-1.74163103e-01, -1.55550122e-01,  1.78837687e-01 ... -1.87045068e-01, -1.08112860e+00,  6.02587938e-01]]])"
      ]
     },
     "execution_count": 4,
     "metadata": {},
     "output_type": "execute_result"
    }
   ],
   "source": [
    "model_ms(np.arange(2011).astype(mindspore.int32).repeat(3).view((3, 2011)))"
   ]
  },
  {
   "cell_type": "code",
   "execution_count": 5,
   "id": "2c5a3f9a",
   "metadata": {},
   "outputs": [
    {
     "ename": "NameError",
     "evalue": "name 'AutoModelForCausalLM' is not defined",
     "output_type": "error",
     "traceback": [
      "\u001b[0;31m---------------------------------------------------------------------------\u001b[0m",
      "\u001b[0;31mNameError\u001b[0m                                 Traceback (most recent call last)",
      "\u001b[0;32m<ipython-input-5-ff3358b2f08d>\u001b[0m in \u001b[0;36m<module>\u001b[0;34m\u001b[0m\n\u001b[0;32m----> 1\u001b[0;31m \u001b[0mmodel_pt\u001b[0m \u001b[0;34m=\u001b[0m \u001b[0mAutoModelForCausalLM\u001b[0m\u001b[0;34m.\u001b[0m\u001b[0mfrom_pretrained\u001b[0m\u001b[0;34m(\u001b[0m\u001b[0;34m\"EleutherAI/gpt-j-6B\"\u001b[0m\u001b[0;34m)\u001b[0m\u001b[0;34m\u001b[0m\u001b[0;34m\u001b[0m\u001b[0m\n\u001b[0m",
      "\u001b[0;31mNameError\u001b[0m: name 'AutoModelForCausalLM' is not defined"
     ]
    }
   ],
   "source": [
    "model_pt = AutoModelForCausalLM.from_pretrained(\"EleutherAI/gpt-j-6B\")"
   ]
  },
  {
   "cell_type": "code",
   "execution_count": 5,
   "id": "8e9197ff",
   "metadata": {},
   "outputs": [
    {
     "name": "stdout",
     "output_type": "stream",
     "text": [
      "(3, 1, 2)\n"
     ]
    }
   ],
   "source": [
    "import mindspore.numpy as np\n",
    "# t = np.arange(2, 4)\n",
    "from mindspore import Tensor\n",
    "x = np.ones((1,2,3), dtype=np.float32)\n",
    "# s = x.shape\n",
    "# s = (*s[:-2], s[-1], s[-2])\n",
    "x = x.transpose(2, 0, 1)\n",
    "print(x.shape)"
   ]
  },
  {
   "cell_type": "code",
   "execution_count": 10,
   "id": "527b1159",
   "metadata": {},
   "outputs": [
    {
     "data": {
      "text/plain": [
       "Tensor(shape=[2], dtype=Int32, value= [0, 2])"
      ]
     },
     "execution_count": 10,
     "metadata": {},
     "output_type": "execute_result"
    }
   ],
   "source": [
    "np.arange(0, 3, 2)"
   ]
  },
  {
   "cell_type": "code",
   "execution_count": 6,
   "id": "45aea2d0",
   "metadata": {},
   "outputs": [
    {
     "name": "stdout",
     "output_type": "stream",
     "text": [
      "[1.0000000e+00 8.3176380e-01 6.9183093e-01 5.7543993e-01 4.7863010e-01\n",
      " 3.9810714e-01 3.3113110e-01 2.7542287e-01 2.2908677e-01 1.9054605e-01\n",
      " 1.5848932e-01 1.3182567e-01 1.0964782e-01 9.1201097e-02 7.5857759e-02\n",
      " 6.3095719e-02 5.2480750e-02 4.3651581e-02 3.6307801e-02 3.0199513e-02\n",
      " 2.5118863e-02 2.0892963e-02 1.7378006e-02 1.4454395e-02 1.2022645e-02\n",
      " 9.9999988e-03 8.3176391e-03 6.9183069e-03 5.7543991e-03 4.7863019e-03\n",
      " 3.9810701e-03 3.3113111e-03 2.7542294e-03 2.2908668e-03 1.9054606e-03\n",
      " 1.5848929e-03 1.3182564e-03 1.0964782e-03 9.1201067e-04 7.5857766e-04\n",
      " 6.3095737e-04 5.2480737e-04 4.3651587e-04 3.6307788e-04 3.0199511e-04\n",
      " 2.5118855e-04 2.0892952e-04 1.7378014e-04 1.4454400e-04 1.2022645e-04]\n",
      "[[0.0000000e+00 0.0000000e+00 0.0000000e+00 0.0000000e+00 0.0000000e+00\n",
      "  0.0000000e+00 0.0000000e+00 0.0000000e+00 0.0000000e+00 0.0000000e+00\n",
      "  0.0000000e+00 0.0000000e+00 0.0000000e+00 0.0000000e+00 0.0000000e+00\n",
      "  0.0000000e+00 0.0000000e+00 0.0000000e+00 0.0000000e+00 0.0000000e+00\n",
      "  0.0000000e+00 0.0000000e+00 0.0000000e+00 0.0000000e+00 0.0000000e+00\n",
      "  0.0000000e+00 0.0000000e+00 0.0000000e+00 0.0000000e+00 0.0000000e+00\n",
      "  0.0000000e+00 0.0000000e+00 0.0000000e+00 0.0000000e+00 0.0000000e+00\n",
      "  0.0000000e+00 0.0000000e+00 0.0000000e+00 0.0000000e+00 0.0000000e+00\n",
      "  0.0000000e+00 0.0000000e+00 0.0000000e+00 0.0000000e+00 0.0000000e+00\n",
      "  0.0000000e+00 0.0000000e+00 0.0000000e+00 0.0000000e+00 0.0000000e+00]\n",
      " [1.0000000e+00 8.3176380e-01 6.9183093e-01 5.7543993e-01 4.7863010e-01\n",
      "  3.9810714e-01 3.3113110e-01 2.7542287e-01 2.2908677e-01 1.9054605e-01\n",
      "  1.5848932e-01 1.3182567e-01 1.0964782e-01 9.1201097e-02 7.5857759e-02\n",
      "  6.3095719e-02 5.2480750e-02 4.3651581e-02 3.6307801e-02 3.0199513e-02\n",
      "  2.5118863e-02 2.0892963e-02 1.7378006e-02 1.4454395e-02 1.2022645e-02\n",
      "  9.9999988e-03 8.3176391e-03 6.9183069e-03 5.7543991e-03 4.7863019e-03\n",
      "  3.9810701e-03 3.3113111e-03 2.7542294e-03 2.2908668e-03 1.9054606e-03\n",
      "  1.5848929e-03 1.3182564e-03 1.0964782e-03 9.1201067e-04 7.5857766e-04\n",
      "  6.3095737e-04 5.2480737e-04 4.3651587e-04 3.6307788e-04 3.0199511e-04\n",
      "  2.5118855e-04 2.0892952e-04 1.7378014e-04 1.4454400e-04 1.2022645e-04]\n",
      " [2.0000000e+00 1.6635276e+00 1.3836619e+00 1.1508799e+00 9.5726019e-01\n",
      "  7.9621428e-01 6.6226220e-01 5.5084574e-01 4.5817354e-01 3.8109210e-01\n",
      "  3.1697863e-01 2.6365134e-01 2.1929564e-01 1.8240219e-01 1.5171552e-01\n",
      "  1.2619144e-01 1.0496150e-01 8.7303162e-02 7.2615601e-02 6.0399026e-02\n",
      "  5.0237726e-02 4.1785926e-02 3.4756012e-02 2.8908789e-02 2.4045290e-02\n",
      "  1.9999998e-02 1.6635278e-02 1.3836614e-02 1.1508798e-02 9.5726037e-03\n",
      "  7.9621403e-03 6.6226223e-03 5.5084587e-03 4.5817336e-03 3.8109212e-03\n",
      "  3.1697857e-03 2.6365127e-03 2.1929564e-03 1.8240213e-03 1.5171553e-03\n",
      "  1.2619147e-03 1.0496147e-03 8.7303173e-04 7.2615576e-04 6.0399022e-04\n",
      "  5.0237711e-04 4.1785903e-04 3.4756027e-04 2.8908800e-04 2.4045289e-04]]\n"
     ]
    }
   ],
   "source": [
    "from mindspore import ops, nn\n",
    "expand_dims = ops.ExpandDims()\n",
    "sin = ops.Sin()\n",
    "cos = ops.Cos()\n",
    "pow = ops.Pow()\n",
    "div = ops.Div()\n",
    "dim = 100\n",
    "inv_freq = 1.0 / pow(10000, div(np.arange(0, dim, 2).astype(mindspore.float32), dim))\n",
    "print(inv_freq)\n",
    "sinusoid_inp = ops.matmul(expand_dims(np.arange(3), 1).astype(mindspore.float32), expand_dims(inv_freq, 0).astype(mindspore.float32))\n",
    "\n",
    "print(sinusoid_inp)"
   ]
  },
  {
   "cell_type": "code",
   "execution_count": 7,
   "id": "e3ad245e",
   "metadata": {},
   "outputs": [
    {
     "data": {
      "text/plain": [
       "['DatasetHelper',\n",
       " 'DynamicLossScaleManager',\n",
       " 'FixedLossScaleManager',\n",
       " 'Int',\n",
       " 'LossScaleManager',\n",
       " 'Model',\n",
       " 'Parameter',\n",
       " 'ParameterTuple',\n",
       " 'RowTensor',\n",
       " 'SparseTensor',\n",
       " 'Tensor',\n",
       " 'Type',\n",
       " '__all__',\n",
       " '__builtins__',\n",
       " '__cached__',\n",
       " '__doc__',\n",
       " '__file__',\n",
       " '__loader__',\n",
       " '__name__',\n",
       " '__package__',\n",
       " '__path__',\n",
       " '__spec__',\n",
       " '__version__',\n",
       " '_c_expression',\n",
       " '_checkparam',\n",
       " '_extends',\n",
       " '_op_impl',\n",
       " 'amp',\n",
       " 'async_ckpt_thread_status',\n",
       " 'bool_',\n",
       " 'boost',\n",
       " 'build_searched_strategy',\n",
       " 'build_train_network',\n",
       " 'byte',\n",
       " 'common',\n",
       " 'communication',\n",
       " 'complex128',\n",
       " 'complex64',\n",
       " 'compression',\n",
       " 'connect_network_with_dataset',\n",
       " 'context',\n",
       " 'default_config',\n",
       " 'double',\n",
       " 'dtype',\n",
       " 'dtype_to_nptype',\n",
       " 'dtype_to_pytype',\n",
       " 'export',\n",
       " 'float16',\n",
       " 'float32',\n",
       " 'float64',\n",
       " 'float_',\n",
       " 'get_level',\n",
       " 'get_log_config',\n",
       " 'get_py_obj_dtype',\n",
       " 'get_seed',\n",
       " 'half',\n",
       " 'int16',\n",
       " 'int32',\n",
       " 'int64',\n",
       " 'int8',\n",
       " 'int_',\n",
       " 'intc',\n",
       " 'intp',\n",
       " 'issubclass_',\n",
       " 'list_',\n",
       " 'load',\n",
       " 'load_checkpoint',\n",
       " 'load_distributed_checkpoint',\n",
       " 'load_param_into_net',\n",
       " 'log',\n",
       " 'merge_sliced_parameter',\n",
       " 'ms_function',\n",
       " 'nn',\n",
       " 'number',\n",
       " 'ops',\n",
       " 'parallel',\n",
       " 'parse_print',\n",
       " 'pytype_to_dtype',\n",
       " 'run_check',\n",
       " 'save_checkpoint',\n",
       " 'set_seed',\n",
       " 'short',\n",
       " 'single',\n",
       " 'string',\n",
       " 'tensor',\n",
       " 'tensor_type',\n",
       " 'train',\n",
       " 'tuple_',\n",
       " 'type_none',\n",
       " 'ubyte',\n",
       " 'uint',\n",
       " 'uint16',\n",
       " 'uint32',\n",
       " 'uint64',\n",
       " 'uint8',\n",
       " 'uintc',\n",
       " 'uintp',\n",
       " 'ushort',\n",
       " 'version']"
      ]
     },
     "execution_count": 7,
     "metadata": {},
     "output_type": "execute_result"
    }
   ],
   "source": [
    "dir(mindspore)"
   ]
  },
  {
   "cell_type": "code",
   "execution_count": null,
   "id": "f29a4e5e",
   "metadata": {},
   "outputs": [],
   "source": []
  }
 ],
 "metadata": {
  "kernelspec": {
   "display_name": "MindSpore",
   "language": "python",
   "name": "mindspore"
  },
  "language_info": {
   "codemirror_mode": {
    "name": "ipython",
    "version": 3
   },
   "file_extension": ".py",
   "mimetype": "text/x-python",
   "name": "python",
   "nbconvert_exporter": "python",
   "pygments_lexer": "ipython3",
   "version": "3.7.6"
  }
 },
 "nbformat": 4,
 "nbformat_minor": 5
}
