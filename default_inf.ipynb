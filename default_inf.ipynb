{
 "cells": [
  {
   "cell_type": "code",
   "execution_count": 1,
   "id": "80101a2c",
   "metadata": {},
   "outputs": [],
   "source": [
    "# from model import GPTJForCausalLM, GPTJConfig\n",
    "from model import *\n",
    "# from transformers import AutoModelForCausalLM\n",
    "import mindspore\n",
    "import mindspore.numpy as np\n",
    "from mindspore import context\n",
    "import datetime"
   ]
  },
  {
   "cell_type": "code",
   "execution_count": 2,
   "id": "16bbfdfc",
   "metadata": {},
   "outputs": [
    {
     "name": "stdout",
     "output_type": "stream",
     "text": [
      "Begin constructing GPTJModel...\n",
      "Embedding...\n",
      "Begin CellList...\n",
      "Begin constructing GPTJAttention...\n",
      "CellList complete\n",
      "Begin attention bias...\n",
      "Attention bias complete!\n",
      "GPTJModel constructed.\n"
     ]
    }
   ],
   "source": [
    "model_ms = GPTJForCausalLM(GPTJConfig(n_layer=1))"
   ]
  },
  {
   "cell_type": "code",
   "execution_count": 3,
   "id": "eb13cf5e",
   "metadata": {
    "scrolled": true
   },
   "outputs": [],
   "source": [
    "# context.set_context(save_graphs=True, save_graphs_path=\"./graph/{}\".format(datetime.datetime.now()))"
   ]
  },
  {
   "cell_type": "code",
   "execution_count": 4,
   "id": "351b7ea5",
   "metadata": {},
   "outputs": [
    {
     "ename": "ValueError",
     "evalue": "For 'Reshape', the shape of 'input_x' is [1, 2048], the value of 'input_shape' value is [0, 2077]. The product of the shape of 'input_x' should be equal to product of 'input_shape', but product of the shape of 'input_x' is 2048, product of 'input_shape' is 0.",
     "output_type": "error",
     "traceback": [
      "\u001b[0;31m---------------------------------------------------------------------------\u001b[0m",
      "\u001b[0;31mValueError\u001b[0m                                Traceback (most recent call last)",
      "\u001b[0;32m<ipython-input-4-4199a14333cc>\u001b[0m in \u001b[0;36m<module>\u001b[0;34m\u001b[0m\n\u001b[0;32m----> 1\u001b[0;31m \u001b[0mmodel_ms\u001b[0m\u001b[0;34m(\u001b[0m\u001b[0mnp\u001b[0m\u001b[0;34m.\u001b[0m\u001b[0marange\u001b[0m\u001b[0;34m(\u001b[0m\u001b[0;36m2077\u001b[0m\u001b[0;34m)\u001b[0m\u001b[0;34m.\u001b[0m\u001b[0mastype\u001b[0m\u001b[0;34m(\u001b[0m\u001b[0mmindspore\u001b[0m\u001b[0;34m.\u001b[0m\u001b[0mint32\u001b[0m\u001b[0;34m)\u001b[0m\u001b[0;34m.\u001b[0m\u001b[0mrepeat\u001b[0m\u001b[0;34m(\u001b[0m\u001b[0;36m3\u001b[0m\u001b[0;34m)\u001b[0m\u001b[0;34m.\u001b[0m\u001b[0mview\u001b[0m\u001b[0;34m(\u001b[0m\u001b[0;34m(\u001b[0m\u001b[0;36m3\u001b[0m\u001b[0;34m,\u001b[0m \u001b[0;36m2077\u001b[0m\u001b[0;34m)\u001b[0m\u001b[0;34m)\u001b[0m\u001b[0;34m)\u001b[0m\u001b[0;34m\u001b[0m\u001b[0;34m\u001b[0m\u001b[0m\n\u001b[0m",
      "\u001b[0;32m~/anaconda3/envs/MindSpore/lib/python3.7/site-packages/mindspore/nn/cell.py\u001b[0m in \u001b[0;36m__call__\u001b[0;34m(self, *inputs, **kwargs)\u001b[0m\n\u001b[1;32m    402\u001b[0m             \u001b[0;32mif\u001b[0m \u001b[0mself\u001b[0m\u001b[0;34m.\u001b[0m\u001b[0menable_hook\u001b[0m\u001b[0;34m:\u001b[0m\u001b[0;34m\u001b[0m\u001b[0;34m\u001b[0m\u001b[0m\n\u001b[1;32m    403\u001b[0m                 \u001b[0;32mraise\u001b[0m \u001b[0mValueError\u001b[0m\u001b[0;34m(\u001b[0m\u001b[0;34m\"The graph mode does not support hook function.\"\u001b[0m\u001b[0;34m)\u001b[0m\u001b[0;34m\u001b[0m\u001b[0;34m\u001b[0m\u001b[0m\n\u001b[0;32m--> 404\u001b[0;31m             \u001b[0mout\u001b[0m \u001b[0;34m=\u001b[0m \u001b[0mself\u001b[0m\u001b[0;34m.\u001b[0m\u001b[0mcompile_and_run\u001b[0m\u001b[0;34m(\u001b[0m\u001b[0;34m*\u001b[0m\u001b[0minputs\u001b[0m\u001b[0;34m)\u001b[0m\u001b[0;34m\u001b[0m\u001b[0;34m\u001b[0m\u001b[0m\n\u001b[0m\u001b[1;32m    405\u001b[0m             \u001b[0;32mreturn\u001b[0m \u001b[0mout\u001b[0m\u001b[0;34m\u001b[0m\u001b[0;34m\u001b[0m\u001b[0m\n\u001b[1;32m    406\u001b[0m \u001b[0;34m\u001b[0m\u001b[0m\n",
      "\u001b[0;32m~/anaconda3/envs/MindSpore/lib/python3.7/site-packages/mindspore/nn/cell.py\u001b[0m in \u001b[0;36mcompile_and_run\u001b[0;34m(self, *inputs)\u001b[0m\n\u001b[1;32m    680\u001b[0m         \"\"\"\n\u001b[1;32m    681\u001b[0m         \u001b[0mself\u001b[0m\u001b[0;34m.\u001b[0m\u001b[0m_auto_parallel_compile_and_run\u001b[0m \u001b[0;34m=\u001b[0m \u001b[0;32mTrue\u001b[0m\u001b[0;34m\u001b[0m\u001b[0;34m\u001b[0m\u001b[0m\n\u001b[0;32m--> 682\u001b[0;31m         \u001b[0mself\u001b[0m\u001b[0;34m.\u001b[0m\u001b[0mcompile\u001b[0m\u001b[0;34m(\u001b[0m\u001b[0;34m*\u001b[0m\u001b[0minputs\u001b[0m\u001b[0;34m)\u001b[0m\u001b[0;34m\u001b[0m\u001b[0;34m\u001b[0m\u001b[0m\n\u001b[0m\u001b[1;32m    683\u001b[0m \u001b[0;34m\u001b[0m\u001b[0m\n\u001b[1;32m    684\u001b[0m         \u001b[0mnew_inputs\u001b[0m \u001b[0;34m=\u001b[0m \u001b[0;34m[\u001b[0m\u001b[0;34m]\u001b[0m\u001b[0;34m\u001b[0m\u001b[0;34m\u001b[0m\u001b[0m\n",
      "\u001b[0;32m~/anaconda3/envs/MindSpore/lib/python3.7/site-packages/mindspore/nn/cell.py\u001b[0m in \u001b[0;36mcompile\u001b[0;34m(self, *inputs)\u001b[0m\n\u001b[1;32m    667\u001b[0m             \u001b[0minputs\u001b[0m \u001b[0;34m(\u001b[0m\u001b[0mtuple\u001b[0m\u001b[0;34m)\u001b[0m\u001b[0;34m:\u001b[0m \u001b[0mInputs\u001b[0m \u001b[0mof\u001b[0m \u001b[0mthe\u001b[0m \u001b[0mCell\u001b[0m \u001b[0mobject\u001b[0m\u001b[0;34m.\u001b[0m\u001b[0;34m\u001b[0m\u001b[0;34m\u001b[0m\u001b[0m\n\u001b[1;32m    668\u001b[0m         \"\"\"\n\u001b[0;32m--> 669\u001b[0;31m         \u001b[0m_cell_graph_executor\u001b[0m\u001b[0;34m.\u001b[0m\u001b[0mcompile\u001b[0m\u001b[0;34m(\u001b[0m\u001b[0mself\u001b[0m\u001b[0;34m,\u001b[0m \u001b[0;34m*\u001b[0m\u001b[0minputs\u001b[0m\u001b[0;34m,\u001b[0m \u001b[0mphase\u001b[0m\u001b[0;34m=\u001b[0m\u001b[0mself\u001b[0m\u001b[0;34m.\u001b[0m\u001b[0mphase\u001b[0m\u001b[0;34m,\u001b[0m \u001b[0mauto_parallel_mode\u001b[0m\u001b[0;34m=\u001b[0m\u001b[0mself\u001b[0m\u001b[0;34m.\u001b[0m\u001b[0m_auto_parallel_mode\u001b[0m\u001b[0;34m)\u001b[0m\u001b[0;34m\u001b[0m\u001b[0;34m\u001b[0m\u001b[0m\n\u001b[0m\u001b[1;32m    670\u001b[0m \u001b[0;34m\u001b[0m\u001b[0m\n\u001b[1;32m    671\u001b[0m     \u001b[0;32mdef\u001b[0m \u001b[0mcompile_and_run\u001b[0m\u001b[0;34m(\u001b[0m\u001b[0mself\u001b[0m\u001b[0;34m,\u001b[0m \u001b[0;34m*\u001b[0m\u001b[0minputs\u001b[0m\u001b[0;34m)\u001b[0m\u001b[0;34m:\u001b[0m\u001b[0;34m\u001b[0m\u001b[0;34m\u001b[0m\u001b[0m\n",
      "\u001b[0;32m~/anaconda3/envs/MindSpore/lib/python3.7/site-packages/mindspore/common/api.py\u001b[0m in \u001b[0;36mcompile\u001b[0;34m(self, obj, phase, do_convert, auto_parallel_mode, *args)\u001b[0m\n\u001b[1;32m    546\u001b[0m         \u001b[0menable_ge\u001b[0m \u001b[0;34m=\u001b[0m \u001b[0mcontext\u001b[0m\u001b[0;34m.\u001b[0m\u001b[0mget_context\u001b[0m\u001b[0;34m(\u001b[0m\u001b[0;34m\"enable_ge\"\u001b[0m\u001b[0;34m)\u001b[0m\u001b[0;34m\u001b[0m\u001b[0;34m\u001b[0m\u001b[0m\n\u001b[1;32m    547\u001b[0m         \u001b[0muse_vm\u001b[0m \u001b[0;34m=\u001b[0m \u001b[0;32mnot\u001b[0m \u001b[0menable_ge\u001b[0m \u001b[0;32mor\u001b[0m \u001b[0;34m(\u001b[0m\u001b[0menable_debug_runtime\u001b[0m \u001b[0;32mand\u001b[0m \u001b[0mcontext\u001b[0m\u001b[0;34m.\u001b[0m\u001b[0mget_context\u001b[0m\u001b[0;34m(\u001b[0m\u001b[0;34m\"mode\"\u001b[0m\u001b[0;34m)\u001b[0m \u001b[0;34m==\u001b[0m \u001b[0mcontext\u001b[0m\u001b[0;34m.\u001b[0m\u001b[0mPYNATIVE_MODE\u001b[0m\u001b[0;34m)\u001b[0m\u001b[0;34m\u001b[0m\u001b[0;34m\u001b[0m\u001b[0m\n\u001b[0;32m--> 548\u001b[0;31m         \u001b[0mresult\u001b[0m \u001b[0;34m=\u001b[0m \u001b[0mself\u001b[0m\u001b[0;34m.\u001b[0m\u001b[0m_graph_executor\u001b[0m\u001b[0;34m.\u001b[0m\u001b[0mcompile\u001b[0m\u001b[0;34m(\u001b[0m\u001b[0mobj\u001b[0m\u001b[0;34m,\u001b[0m \u001b[0margs_list\u001b[0m\u001b[0;34m,\u001b[0m \u001b[0mphase\u001b[0m\u001b[0;34m,\u001b[0m \u001b[0muse_vm\u001b[0m\u001b[0;34m,\u001b[0m \u001b[0mself\u001b[0m\u001b[0;34m.\u001b[0m\u001b[0mqueue_name\u001b[0m\u001b[0;34m)\u001b[0m\u001b[0;34m\u001b[0m\u001b[0;34m\u001b[0m\u001b[0m\n\u001b[0m\u001b[1;32m    549\u001b[0m         \u001b[0mself\u001b[0m\u001b[0;34m.\u001b[0m\u001b[0mcompile_cache\u001b[0m\u001b[0;34m[\u001b[0m\u001b[0mphase\u001b[0m\u001b[0;34m]\u001b[0m \u001b[0;34m=\u001b[0m \u001b[0mphase\u001b[0m\u001b[0;34m\u001b[0m\u001b[0;34m\u001b[0m\u001b[0m\n\u001b[1;32m    550\u001b[0m         \u001b[0;32mif\u001b[0m \u001b[0;32mnot\u001b[0m \u001b[0mresult\u001b[0m\u001b[0;34m:\u001b[0m\u001b[0;34m\u001b[0m\u001b[0;34m\u001b[0m\u001b[0m\n",
      "\u001b[0;32m~/anaconda3/envs/MindSpore/lib/python3.7/site-packages/mindspore/ops/operations/array_ops.py\u001b[0m in \u001b[0;36m__infer__\u001b[0;34m(self, x, shape)\u001b[0m\n\u001b[1;32m    532\u001b[0m                 \u001b[0mdim_prod\u001b[0m \u001b[0;34m*=\u001b[0m \u001b[0mshape_v\u001b[0m\u001b[0;34m[\u001b[0m\u001b[0mneg_index\u001b[0m\u001b[0;34m]\u001b[0m\u001b[0;34m\u001b[0m\u001b[0;34m\u001b[0m\u001b[0m\n\u001b[1;32m    533\u001b[0m             \u001b[0;32mif\u001b[0m \u001b[0mdim_prod\u001b[0m \u001b[0;34m!=\u001b[0m \u001b[0marr_prod\u001b[0m\u001b[0;34m:\u001b[0m\u001b[0;34m\u001b[0m\u001b[0;34m\u001b[0m\u001b[0m\n\u001b[0;32m--> 534\u001b[0;31m                 raise ValueError(f\"For '{self.name}', the shape of 'input_x' is {x_shp}, \"\n\u001b[0m\u001b[1;32m    535\u001b[0m                                  \u001b[0;34mf\"the value of 'input_shape' value is {shape_v}. \"\u001b[0m\u001b[0;34m\u001b[0m\u001b[0;34m\u001b[0m\u001b[0m\n\u001b[1;32m    536\u001b[0m                                  \u001b[0;34mf\"The product of the shape of 'input_x' should be equal to product of 'input_shape', \"\u001b[0m\u001b[0;34m\u001b[0m\u001b[0;34m\u001b[0m\u001b[0m\n",
      "\u001b[0;31mValueError\u001b[0m: For 'Reshape', the shape of 'input_x' is [1, 2048], the value of 'input_shape' value is [0, 2077]. The product of the shape of 'input_x' should be equal to product of 'input_shape', but product of the shape of 'input_x' is 2048, product of 'input_shape' is 0."
     ]
    }
   ],
   "source": [
    "model_ms(np.arange(2077).astype(mindspore.int32).repeat(3).view((3, 2077)))"
   ]
  },
  {
   "cell_type": "code",
   "execution_count": 5,
   "id": "f3ffa5b8",
   "metadata": {},
   "outputs": [
    {
     "ename": "NameError",
     "evalue": "name 'AutoModelForCausalLM' is not defined",
     "output_type": "error",
     "traceback": [
      "\u001b[0;31m---------------------------------------------------------------------------\u001b[0m",
      "\u001b[0;31mNameError\u001b[0m                                 Traceback (most recent call last)",
      "\u001b[0;32m<ipython-input-5-ff3358b2f08d>\u001b[0m in \u001b[0;36m<module>\u001b[0;34m\u001b[0m\n\u001b[0;32m----> 1\u001b[0;31m \u001b[0mmodel_pt\u001b[0m \u001b[0;34m=\u001b[0m \u001b[0mAutoModelForCausalLM\u001b[0m\u001b[0;34m.\u001b[0m\u001b[0mfrom_pretrained\u001b[0m\u001b[0;34m(\u001b[0m\u001b[0;34m\"EleutherAI/gpt-j-6B\"\u001b[0m\u001b[0;34m)\u001b[0m\u001b[0;34m\u001b[0m\u001b[0;34m\u001b[0m\u001b[0m\n\u001b[0m",
      "\u001b[0;31mNameError\u001b[0m: name 'AutoModelForCausalLM' is not defined"
     ]
    }
   ],
   "source": [
    "model_pt = AutoModelForCausalLM.from_pretrained(\"EleutherAI/gpt-j-6B\")"
   ]
  },
  {
   "cell_type": "code",
   "execution_count": 5,
   "id": "d4b22be0",
   "metadata": {},
   "outputs": [
    {
     "name": "stdout",
     "output_type": "stream",
     "text": [
      "(3, 1, 2)\n"
     ]
    }
   ],
   "source": [
    "import mindspore.numpy as np\n",
    "# t = np.arange(2, 4)\n",
    "from mindspore import Tensor\n",
    "x = np.ones((1,2,3), dtype=np.float32)\n",
    "# s = x.shape\n",
    "# s = (*s[:-2], s[-1], s[-2])\n",
    "x = x.transpose(2, 0, 1)\n",
    "print(x.shape)"
   ]
  },
  {
   "cell_type": "code",
   "execution_count": 10,
   "id": "a810ed92",
   "metadata": {},
   "outputs": [
    {
     "data": {
      "text/plain": [
       "Tensor(shape=[2], dtype=Int32, value= [0, 2])"
      ]
     },
     "execution_count": 10,
     "metadata": {},
     "output_type": "execute_result"
    }
   ],
   "source": [
    "np.arange(0, 3, 2)"
   ]
  },
  {
   "cell_type": "code",
   "execution_count": 6,
   "id": "c090c8b8",
   "metadata": {},
   "outputs": [
    {
     "name": "stdout",
     "output_type": "stream",
     "text": [
      "[1.0000000e+00 8.3176380e-01 6.9183093e-01 5.7543993e-01 4.7863010e-01\n",
      " 3.9810714e-01 3.3113110e-01 2.7542287e-01 2.2908677e-01 1.9054605e-01\n",
      " 1.5848932e-01 1.3182567e-01 1.0964782e-01 9.1201097e-02 7.5857759e-02\n",
      " 6.3095719e-02 5.2480750e-02 4.3651581e-02 3.6307801e-02 3.0199513e-02\n",
      " 2.5118863e-02 2.0892963e-02 1.7378006e-02 1.4454395e-02 1.2022645e-02\n",
      " 9.9999988e-03 8.3176391e-03 6.9183069e-03 5.7543991e-03 4.7863019e-03\n",
      " 3.9810701e-03 3.3113111e-03 2.7542294e-03 2.2908668e-03 1.9054606e-03\n",
      " 1.5848929e-03 1.3182564e-03 1.0964782e-03 9.1201067e-04 7.5857766e-04\n",
      " 6.3095737e-04 5.2480737e-04 4.3651587e-04 3.6307788e-04 3.0199511e-04\n",
      " 2.5118855e-04 2.0892952e-04 1.7378014e-04 1.4454400e-04 1.2022645e-04]\n",
      "[[0.0000000e+00 0.0000000e+00 0.0000000e+00 0.0000000e+00 0.0000000e+00\n",
      "  0.0000000e+00 0.0000000e+00 0.0000000e+00 0.0000000e+00 0.0000000e+00\n",
      "  0.0000000e+00 0.0000000e+00 0.0000000e+00 0.0000000e+00 0.0000000e+00\n",
      "  0.0000000e+00 0.0000000e+00 0.0000000e+00 0.0000000e+00 0.0000000e+00\n",
      "  0.0000000e+00 0.0000000e+00 0.0000000e+00 0.0000000e+00 0.0000000e+00\n",
      "  0.0000000e+00 0.0000000e+00 0.0000000e+00 0.0000000e+00 0.0000000e+00\n",
      "  0.0000000e+00 0.0000000e+00 0.0000000e+00 0.0000000e+00 0.0000000e+00\n",
      "  0.0000000e+00 0.0000000e+00 0.0000000e+00 0.0000000e+00 0.0000000e+00\n",
      "  0.0000000e+00 0.0000000e+00 0.0000000e+00 0.0000000e+00 0.0000000e+00\n",
      "  0.0000000e+00 0.0000000e+00 0.0000000e+00 0.0000000e+00 0.0000000e+00]\n",
      " [1.0000000e+00 8.3176380e-01 6.9183093e-01 5.7543993e-01 4.7863010e-01\n",
      "  3.9810714e-01 3.3113110e-01 2.7542287e-01 2.2908677e-01 1.9054605e-01\n",
      "  1.5848932e-01 1.3182567e-01 1.0964782e-01 9.1201097e-02 7.5857759e-02\n",
      "  6.3095719e-02 5.2480750e-02 4.3651581e-02 3.6307801e-02 3.0199513e-02\n",
      "  2.5118863e-02 2.0892963e-02 1.7378006e-02 1.4454395e-02 1.2022645e-02\n",
      "  9.9999988e-03 8.3176391e-03 6.9183069e-03 5.7543991e-03 4.7863019e-03\n",
      "  3.9810701e-03 3.3113111e-03 2.7542294e-03 2.2908668e-03 1.9054606e-03\n",
      "  1.5848929e-03 1.3182564e-03 1.0964782e-03 9.1201067e-04 7.5857766e-04\n",
      "  6.3095737e-04 5.2480737e-04 4.3651587e-04 3.6307788e-04 3.0199511e-04\n",
      "  2.5118855e-04 2.0892952e-04 1.7378014e-04 1.4454400e-04 1.2022645e-04]\n",
      " [2.0000000e+00 1.6635276e+00 1.3836619e+00 1.1508799e+00 9.5726019e-01\n",
      "  7.9621428e-01 6.6226220e-01 5.5084574e-01 4.5817354e-01 3.8109210e-01\n",
      "  3.1697863e-01 2.6365134e-01 2.1929564e-01 1.8240219e-01 1.5171552e-01\n",
      "  1.2619144e-01 1.0496150e-01 8.7303162e-02 7.2615601e-02 6.0399026e-02\n",
      "  5.0237726e-02 4.1785926e-02 3.4756012e-02 2.8908789e-02 2.4045290e-02\n",
      "  1.9999998e-02 1.6635278e-02 1.3836614e-02 1.1508798e-02 9.5726037e-03\n",
      "  7.9621403e-03 6.6226223e-03 5.5084587e-03 4.5817336e-03 3.8109212e-03\n",
      "  3.1697857e-03 2.6365127e-03 2.1929564e-03 1.8240213e-03 1.5171553e-03\n",
      "  1.2619147e-03 1.0496147e-03 8.7303173e-04 7.2615576e-04 6.0399022e-04\n",
      "  5.0237711e-04 4.1785903e-04 3.4756027e-04 2.8908800e-04 2.4045289e-04]]\n"
     ]
    }
   ],
   "source": [
    "from mindspore import ops, nn\n",
    "expand_dims = ops.ExpandDims()\n",
    "sin = ops.Sin()\n",
    "cos = ops.Cos()\n",
    "pow = ops.Pow()\n",
    "div = ops.Div()\n",
    "dim = 100\n",
    "inv_freq = 1.0 / pow(10000, div(np.arange(0, dim, 2).astype(mindspore.float32), dim))\n",
    "print(inv_freq)\n",
    "sinusoid_inp = ops.matmul(expand_dims(np.arange(3), 1).astype(mindspore.float32), expand_dims(inv_freq, 0).astype(mindspore.float32))\n",
    "\n",
    "print(sinusoid_inp)"
   ]
  },
  {
   "cell_type": "code",
   "execution_count": 7,
   "id": "8232fe16",
   "metadata": {},
   "outputs": [
    {
     "data": {
      "text/plain": [
       "['DatasetHelper',\n",
       " 'DynamicLossScaleManager',\n",
       " 'FixedLossScaleManager',\n",
       " 'Int',\n",
       " 'LossScaleManager',\n",
       " 'Model',\n",
       " 'Parameter',\n",
       " 'ParameterTuple',\n",
       " 'RowTensor',\n",
       " 'SparseTensor',\n",
       " 'Tensor',\n",
       " 'Type',\n",
       " '__all__',\n",
       " '__builtins__',\n",
       " '__cached__',\n",
       " '__doc__',\n",
       " '__file__',\n",
       " '__loader__',\n",
       " '__name__',\n",
       " '__package__',\n",
       " '__path__',\n",
       " '__spec__',\n",
       " '__version__',\n",
       " '_c_expression',\n",
       " '_checkparam',\n",
       " '_extends',\n",
       " '_op_impl',\n",
       " 'amp',\n",
       " 'async_ckpt_thread_status',\n",
       " 'bool_',\n",
       " 'boost',\n",
       " 'build_searched_strategy',\n",
       " 'build_train_network',\n",
       " 'byte',\n",
       " 'common',\n",
       " 'communication',\n",
       " 'complex128',\n",
       " 'complex64',\n",
       " 'compression',\n",
       " 'connect_network_with_dataset',\n",
       " 'context',\n",
       " 'default_config',\n",
       " 'double',\n",
       " 'dtype',\n",
       " 'dtype_to_nptype',\n",
       " 'dtype_to_pytype',\n",
       " 'export',\n",
       " 'float16',\n",
       " 'float32',\n",
       " 'float64',\n",
       " 'float_',\n",
       " 'get_level',\n",
       " 'get_log_config',\n",
       " 'get_py_obj_dtype',\n",
       " 'get_seed',\n",
       " 'half',\n",
       " 'int16',\n",
       " 'int32',\n",
       " 'int64',\n",
       " 'int8',\n",
       " 'int_',\n",
       " 'intc',\n",
       " 'intp',\n",
       " 'issubclass_',\n",
       " 'list_',\n",
       " 'load',\n",
       " 'load_checkpoint',\n",
       " 'load_distributed_checkpoint',\n",
       " 'load_param_into_net',\n",
       " 'log',\n",
       " 'merge_sliced_parameter',\n",
       " 'ms_function',\n",
       " 'nn',\n",
       " 'number',\n",
       " 'ops',\n",
       " 'parallel',\n",
       " 'parse_print',\n",
       " 'pytype_to_dtype',\n",
       " 'run_check',\n",
       " 'save_checkpoint',\n",
       " 'set_seed',\n",
       " 'short',\n",
       " 'single',\n",
       " 'string',\n",
       " 'tensor',\n",
       " 'tensor_type',\n",
       " 'train',\n",
       " 'tuple_',\n",
       " 'type_none',\n",
       " 'ubyte',\n",
       " 'uint',\n",
       " 'uint16',\n",
       " 'uint32',\n",
       " 'uint64',\n",
       " 'uint8',\n",
       " 'uintc',\n",
       " 'uintp',\n",
       " 'ushort',\n",
       " 'version']"
      ]
     },
     "execution_count": 7,
     "metadata": {},
     "output_type": "execute_result"
    }
   ],
   "source": [
    "dir(mindspore)"
   ]
  },
  {
   "cell_type": "code",
   "execution_count": null,
   "id": "a2805543",
   "metadata": {},
   "outputs": [],
   "source": []
  }
 ],
 "metadata": {
  "kernelspec": {
   "display_name": "MindSpore",
   "language": "python",
   "name": "mindspore"
  },
  "language_info": {
   "codemirror_mode": {
    "name": "ipython",
    "version": 3
   },
   "file_extension": ".py",
   "mimetype": "text/x-python",
   "name": "python",
   "nbconvert_exporter": "python",
   "pygments_lexer": "ipython3",
   "version": "3.7.6"
  }
 },
 "nbformat": 4,
 "nbformat_minor": 5
}
